{
 "cells": [
  {
   "cell_type": "code",
   "execution_count": 5,
   "metadata": {},
   "outputs": [
    {
     "name": "stdout",
     "output_type": "stream",
     "text": [
      "2021-05-03 15:24:00\n"
     ]
    }
   ],
   "source": [
    "import datetime\n",
    "def convert(date_time):\n",
    "    format = '%b %d %Y %I:%M%p'\n",
    "    datetime_str = datetime.datetime.strptime(date_time, format)\n",
    "    return datetime_str\n",
    "date_time ='May 03 2021 03:24PM'\n",
    "print(convert(date_time))"
   ]
  },
  {
   "cell_type": "code",
   "execution_count": 2,
   "metadata": {},
   "outputs": [
    {
     "name": "stdout",
     "output_type": "stream",
     "text": [
      "Current Date: 2021-07-17\n",
      "5 days before Current Date is: 2021-07-12\n"
     ]
    }
   ],
   "source": [
    "from datetime import date, timedelta\n",
    "delta = date.today() - timedelta(5)\n",
    "print('Current Date:',date.today())\n",
    "print('5 days before Current Date is:',delta)"
   ]
  },
  {
   "cell_type": "code",
   "execution_count": 3,
   "metadata": {},
   "outputs": [
    {
     "name": "stdout",
     "output_type": "stream",
     "text": [
      "2021-07-17 00:00:00\n"
     ]
    }
   ],
   "source": [
    "from datetime import datetime\n",
    "dt =date.today()\n",
    "print(datetime.combine(dt,datetime.min.time()))"
   ]
  },
  {
   "cell_type": "code",
   "execution_count": 4,
   "metadata": {},
   "outputs": [
    {
     "name": "stdout",
     "output_type": "stream",
     "text": [
      "2021-07-17 15:14:58.208053\n",
      "2021-07-18 15:14:58.208053\n",
      "2021-07-19 15:14:58.208053\n",
      "2021-07-20 15:14:58.208053\n",
      "2021-07-21 15:14:58.208053\n",
      "2021-07-22 15:14:58.208053\n",
      "2021-07-23 15:14:58.208053\n"
     ]
    }
   ],
   "source": [
    "import datetime\n",
    "base = datetime.datetime.today()\n",
    "for x in range(0,7):\n",
    "    print(base + datetime.timedelta(days=x))"
   ]
  },
  {
   "cell_type": "code",
   "execution_count": null,
   "metadata": {},
   "outputs": [],
   "source": []
  }
 ],
 "metadata": {
  "kernelspec": {
   "display_name": "Python 3",
   "language": "python",
   "name": "python3"
  },
  "language_info": {
   "codemirror_mode": {
    "name": "ipython",
    "version": 3
   },
   "file_extension": ".py",
   "mimetype": "text/x-python",
   "name": "python",
   "nbconvert_exporter": "python",
   "pygments_lexer": "ipython3",
   "version": "3.7.3"
  }
 },
 "nbformat": 4,
 "nbformat_minor": 2
}

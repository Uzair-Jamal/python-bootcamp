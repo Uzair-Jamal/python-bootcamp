{
 "cells": [
  {
   "cell_type": "code",
   "execution_count": 2,
   "metadata": {},
   "outputs": [
    {
     "name": "stdout",
     "output_type": "stream",
     "text": [
      "[(2, 'x'), (4, 'y'), (6, 'z')]\n",
      "[(2, 'x'), (4, 'y'), (6, 'z')]\n"
     ]
    }
   ],
   "source": [
    "def listOfTuples(l1, l2):\n",
    "    return list(map(lambda x, y:(x,y), l1, l2))\n",
    "li1 = [2,4,6,7]\n",
    "li2 = ['x','y','z']\n",
    "print(listOfTuples(li1, li2))\n",
    "def merge(li1, li2):\n",
    "      \n",
    "    merged_list = list(zip(li1, li2)) \n",
    "    return merged_list\n",
    "li1 = [2,4,6,7]\n",
    "list2 = ['x', 'y', 'z']\n",
    "print(merge(li1, li2))"
   ]
  },
  {
   "cell_type": "code",
   "execution_count": 3,
   "metadata": {},
   "outputs": [
    {
     "name": "stdout",
     "output_type": "stream",
     "text": [
      "((2, 'x'), (4, 'y'), (6, 'z'), (8, 'r'), (9, 't'))\n"
     ]
    }
   ],
   "source": [
    "li1=[2,4,6,8,9,10,11]\n",
    "li2=['x','y','z','r','t']\n",
    "result =tuple(zip(li1,li2))\n",
    "print(result)"
   ]
  },
  {
   "cell_type": "code",
   "execution_count": 4,
   "metadata": {},
   "outputs": [
    {
     "name": "stdout",
     "output_type": "stream",
     "text": [
      "[11, 23, 34, 44, 66, 77]\n"
     ]
    }
   ],
   "source": [
    "li1=[11,23,44,66,77,34]\n",
    "li2=sorted(li1)\n",
    "print(li2)"
   ]
  },
  {
   "cell_type": "code",
   "execution_count": 9,
   "metadata": {},
   "outputs": [
    {
     "name": "stdout",
     "output_type": "stream",
     "text": [
      "Are not divisible by 2: 5\n",
      "Are not divisible by 2: 7\n",
      "Are not divisible by 2: 89\n"
     ]
    }
   ],
   "source": [
    "def filtereven(numbers):\n",
    "    if numbers%2 !=0:\n",
    "        return True\n",
    "    else :\n",
    "        return False\n",
    "numbers1 =[2,4,5,6,7,89,0]\n",
    "res=filter(filtereven,numbers1)\n",
    "for i in res:\n",
    "    print(\"Are not divisible by 2:\",i)"
   ]
  },
  {
   "cell_type": "code",
   "execution_count": null,
   "metadata": {},
   "outputs": [],
   "source": []
  }
 ],
 "metadata": {
  "kernelspec": {
   "display_name": "Python 3",
   "language": "python",
   "name": "python3"
  },
  "language_info": {
   "codemirror_mode": {
    "name": "ipython",
    "version": 3
   },
   "file_extension": ".py",
   "mimetype": "text/x-python",
   "name": "python",
   "nbconvert_exporter": "python",
   "pygments_lexer": "ipython3",
   "version": "3.7.3"
  }
 },
 "nbformat": 4,
 "nbformat_minor": 2
}

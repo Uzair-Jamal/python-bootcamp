{
 "cells": [
  {
   "cell_type": "code",
   "execution_count": 1,
   "metadata": {},
   "outputs": [
    {
     "name": "stdout",
     "output_type": "stream",
     "text": [
      "Return type: <class 'enumerate'>\n",
      "[(0, 'go'), (1, 'strole'), (2, 'talk'), (3, 'cup'), (4, 'cat'), (5, 'dog')]\n"
     ]
    }
   ],
   "source": [
    "list1 = [\"go\",\"strole\",\"talk\",\"cup\",\"cat\",\"dog\"]\n",
    "\n",
    "en = enumerate(list1)\n",
    "\n",
    "print(\"Return type:\",type(en))\n",
    "print(list(enumerate(list1)))"
   ]
  },
  {
   "cell_type": "code",
   "execution_count": null,
   "metadata": {},
   "outputs": [],
   "source": [
    "tup = (\"drill\",\"dumb\",\"\",\"dog\",\"bike\",\"tiger\",\"dragon\")\n",
    "dfg = tuple(tup)\n",
    "for w in enumerate(dfg):\n",
    "    print(w)"
   ]
  }
 ],
 "metadata": {
  "kernelspec": {
   "display_name": "Python 3",
   "language": "python",
   "name": "python3"
  },
  "language_info": {
   "codemirror_mode": {
    "name": "ipython",
    "version": 3
   },
   "file_extension": ".py",
   "mimetype": "text/x-python",
   "name": "python",
   "nbconvert_exporter": "python",
   "pygments_lexer": "ipython3",
   "version": "3.7.3"
  }
 },
 "nbformat": 4,
 "nbformat_minor": 2
}
